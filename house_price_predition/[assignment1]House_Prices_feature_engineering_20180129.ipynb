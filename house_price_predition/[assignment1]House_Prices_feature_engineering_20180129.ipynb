{
 "cells": [
  {
   "cell_type": "markdown",
   "metadata": {},
   "source": [
    "# Introduction"
   ]
  },
  {
   "cell_type": "markdown",
   "metadata": {},
   "source": [
    "## What is the goal?\n",
    "\n",
    "1. I want to predict the final price of each home (= Regression)\n",
    "2. I have to use feature engineering techniques explained in class to transform the dataset"
   ]
  },
  {
   "cell_type": "code",
   "execution_count": 1,
   "metadata": {
    "collapsed": true
   },
   "outputs": [],
   "source": [
    "# libraries needed\n",
    "import pandas as pd\n",
    "import numpy as np\n",
    "import matplotlib.pyplot as plt\n",
    "import seaborn as sns\n",
    "%matplotlib inline\n",
    "from IPython.display import display\n",
    "%qtconsole\n",
    "\n",
    "pd.set_option(\"max_columns\", None)"
   ]
  },
  {
   "cell_type": "markdown",
   "metadata": {},
   "source": [
    "# Data Reading and Preparation"
   ]
  },
  {
   "cell_type": "code",
   "execution_count": 2,
   "metadata": {
    "collapsed": true
   },
   "outputs": [],
   "source": [
    "# load data\n",
    "train = pd.read_csv(\"train.csv\")\n",
    "test = pd.read_csv(\"test.csv\")"
   ]
  },
  {
   "cell_type": "code",
   "execution_count": 3,
   "metadata": {},
   "outputs": [
    {
     "data": {
      "text/plain": [
       "True"
      ]
     },
     "execution_count": 3,
     "metadata": {},
     "output_type": "execute_result"
    }
   ],
   "source": [
    "# check there is only one row for each id\n",
    "len(np.unique(train.Id)) == len(train)"
   ]
  },
  {
   "cell_type": "code",
   "execution_count": 4,
   "metadata": {
    "collapsed": true
   },
   "outputs": [],
   "source": [
    "# there are no duplicates so remove id column from training data\n",
    "train = train.drop('Id', axis = 1)\n",
    "test = test.drop('Id', axis = 1)"
   ]
  },
  {
   "cell_type": "markdown",
   "metadata": {},
   "source": [
    "## Hunting NAs"
   ]
  },
  {
   "cell_type": "code",
   "execution_count": 5,
   "metadata": {},
   "outputs": [
    {
     "data": {
      "text/plain": [
       "LotFrontage      259\n",
       "Alley           1369\n",
       "MasVnrType         8\n",
       "MasVnrArea         8\n",
       "BsmtQual          37\n",
       "BsmtCond          37\n",
       "BsmtExposure      38\n",
       "BsmtFinType1      37\n",
       "BsmtFinType2      38\n",
       "Electrical         1\n",
       "FireplaceQu      690\n",
       "GarageType        81\n",
       "GarageYrBlt       81\n",
       "GarageFinish      81\n",
       "GarageQual        81\n",
       "GarageCond        81\n",
       "PoolQC          1453\n",
       "Fence           1179\n",
       "MiscFeature     1406\n",
       "dtype: int64"
      ]
     },
     "execution_count": 5,
     "metadata": {},
     "output_type": "execute_result"
    }
   ],
   "source": [
    "# check null values\n",
    "train.isnull().sum()[train.isnull().sum() > 0]"
   ]
  },
  {
   "cell_type": "code",
   "execution_count": 6,
   "metadata": {},
   "outputs": [
    {
     "name": "stdout",
     "output_type": "stream",
     "text": [
      "There are 19 columns with missing values.\n"
     ]
    }
   ],
   "source": [
    "print(\"There are {} columns with missing values.\".format(len(train.isnull().sum()[train.isnull().sum() > 0])))"
   ]
  },
  {
   "cell_type": "code",
   "execution_count": 7,
   "metadata": {
    "collapsed": true
   },
   "outputs": [],
   "source": [
    "# loop to fill in NAs in categorical variables with 'No'\n",
    "# assume NA values in categorical variables means no feature available = 'None'\n",
    "# except Electrical\n",
    "\n",
    "non_numeric_cols = []\n",
    "for i in train.columns:\n",
    "    if train[i].dtype == object:\n",
    "        non_numeric_cols.append(i)\n",
    "        \n",
    "# fill in electrical first\n",
    "train.Electrical = train.Electrical.fillna('UNK')\n",
    "test.Electrical = test.Electrical.fillna('UNK')\n",
    "\n",
    "# update every other categorical values\n",
    "train.update(train[non_numeric_cols].fillna('No'))\n",
    "test.update(test[non_numeric_cols].fillna('No'))"
   ]
  },
  {
   "cell_type": "code",
   "execution_count": 100,
   "metadata": {
    "collapsed": true
   },
   "outputs": [],
   "source": [
    "# LotFrontage: NA means no lot frontage = 0\n",
    "train.LotFrontage = train.LotFrontage.fillna(0)\n",
    "test.LotFrontage = test.LotFrontage.fillna(0)"
   ]
  },
  {
   "cell_type": "code",
   "execution_count": 101,
   "metadata": {
    "collapsed": true
   },
   "outputs": [],
   "source": [
    "# Masvnrarea: NA means 0\n",
    "train.MasVnrArea = train.MasVnrArea.fillna(0)\n",
    "test.MasVnrArea = test.MasVnrArea.fillna(0)"
   ]
  },
  {
   "cell_type": "code",
   "execution_count": 102,
   "metadata": {
    "collapsed": true
   },
   "outputs": [],
   "source": [
    "# Grageyrblt: assume most garages built when houses built\n",
    "train.loc[train.GarageYrBlt.isnull(),'GarageYrBlt'] = train.YearBuilt\n",
    "test.loc[test.GarageYrBlt.isnull(),'GarageYrBlt'] = test.YearBuilt"
   ]
  },
  {
   "cell_type": "code",
   "execution_count": 103,
   "metadata": {
    "collapsed": true
   },
   "outputs": [],
   "source": [
    "# other null test data?"
   ]
  },
  {
   "cell_type": "code",
   "execution_count": 104,
   "metadata": {
    "scrolled": false
   },
   "outputs": [
    {
     "data": {
      "text/plain": [
       "BsmtFinSF1      1\n",
       "BsmtFinSF2      1\n",
       "BsmtUnfSF       1\n",
       "TotalBsmtSF     1\n",
       "BsmtFullBath    2\n",
       "BsmtHalfBath    2\n",
       "GarageCars      1\n",
       "GarageArea      1\n",
       "dtype: int64"
      ]
     },
     "execution_count": 104,
     "metadata": {},
     "output_type": "execute_result"
    }
   ],
   "source": [
    "train.isnull().sum()[train.isnull().sum() > 0]\n",
    "test.isnull().sum()[test.isnull().sum() > 0]"
   ]
  },
  {
   "cell_type": "markdown",
   "metadata": {},
   "source": [
    "## Factorize features\n",
    "\n",
    "Some numerical features are actually really categories"
   ]
  },
  {
   "cell_type": "code",
   "execution_count": 105,
   "metadata": {
    "collapsed": true
   },
   "outputs": [],
   "source": [
    "train.MSSubClass = train.MSSubClass.astype('str')\n",
    "test.MSSubClass = test.MSSubClass.astype('str')"
   ]
  },
  {
   "cell_type": "code",
   "execution_count": 106,
   "metadata": {
    "collapsed": true
   },
   "outputs": [],
   "source": [
    "train.MoSold = train.MoSold.astype('str')\n",
    "test.MoSold = test.MoSold.astype('str')"
   ]
  },
  {
   "cell_type": "markdown",
   "metadata": {},
   "source": [
    "## Skewness\n",
    "\n",
    "There is skewness in the target variable"
   ]
  },
  {
   "cell_type": "code",
   "execution_count": 107,
   "metadata": {},
   "outputs": [
    {
     "data": {
      "text/plain": [
       "<matplotlib.axes._subplots.AxesSubplot at 0x11b99b630>"
      ]
     },
     "execution_count": 107,
     "metadata": {},
     "output_type": "execute_result"
    },
    {
     "data": {
      "image/png": "[encoded data removed]",
      "text/plain": [
       "<matplotlib.figure.Figure at 0x10b1794e0>"
      ]
     },
     "metadata": {},
     "output_type": "display_data"
    }
   ],
   "source": [
    "# log transformation\n",
    "# why log(x+1)?\n",
    "# log cannot be taken if the value is 0 - it's just a precautious action I guess\n",
    "# source: http://onbiostatistics.blogspot.com.es/2012/05/logx1-data-transformation.html\n",
    "# source: https://www.stata.com/statalist/archive/2008-04/msg00246.html\n",
    "\n",
    "train.SalePrice.describe()\n",
    "fig, ax = plt.subplots(1,2)\n",
    "sns.distplot(np.log(train.SalePrice),\n",
    "            ax = ax[0])\n",
    "sns.distplot(np.log(train.SalePrice+ 1),\n",
    "            ax = ax[1])"
   ]
  },
  {
   "cell_type": "code",
   "execution_count": 108,
   "metadata": {},
   "outputs": [
    {
     "data": {
      "text/plain": [
       "<matplotlib.axes._subplots.AxesSubplot at 0x11bbefe10>"
      ]
     },
     "execution_count": 108,
     "metadata": {},
     "output_type": "execute_result"
    },
    {
     "data": {
      "image/png": "[encoded data removed]",
      "text/plain": [
       "<matplotlib.figure.Figure at 0x11bcaff28>"
      ]
     },
     "metadata": {},
     "output_type": "display_data"
    }
   ],
   "source": [
    "sns.distplot(train.SalePrice, kde = False)"
   ]
  },
  {
   "cell_type": "code",
   "execution_count": 109,
   "metadata": {
    "collapsed": true
   },
   "outputs": [],
   "source": [
    "train['SalePrice'] = train['SalePrice'].apply(lambda x: np.log(x+1))"
   ]
  },
  {
   "cell_type": "code",
   "execution_count": 110,
   "metadata": {},
   "outputs": [
    {
     "data": {
      "text/plain": [
       "<matplotlib.axes._subplots.AxesSubplot at 0x11bea4898>"
      ]
     },
     "execution_count": 110,
     "metadata": {},
     "output_type": "execute_result"
    },
    {
     "data": {
      "image/png": "[encoded data removed]",
      "text/plain": [
       "<matplotlib.figure.Figure at 0x11bec91d0>"
      ]
     },
     "metadata": {},
     "output_type": "display_data"
    }
   ],
   "source": [
    "sns.distplot(train.SalePrice, kde = False)"
   ]
  },
  {
   "cell_type": "code",
   "execution_count": 111,
   "metadata": {},
   "outputs": [
    {
     "data": {
      "text/plain": [
       "35"
      ]
     },
     "execution_count": 111,
     "metadata": {},
     "output_type": "execute_result"
    }
   ],
   "source": [
    "# change other values to skewness\n",
    "numeric_dtypes = ['int16', 'int32', 'int64', 'float16', 'float32', 'float64']\n",
    "numeric_cols = []\n",
    "for i in train.columns:\n",
    "    if train[i].dtype in numeric_dtypes:\n",
    "        numeric_cols.append(i)\n",
    "\n",
    "len(numeric_cols)"
   ]
  },
  {
   "cell_type": "code",
   "execution_count": 112,
   "metadata": {
    "collapsed": true
   },
   "outputs": [],
   "source": [
    "# using pandas skew function\n",
    "# (train.skew(numeric_only = True ) > 0.75).iteritems()"
   ]
  },
  {
   "cell_type": "code",
   "execution_count": 113,
   "metadata": {},
   "outputs": [
    {
     "ename": "IndentationError",
     "evalue": "unexpected indent (<ipython-input-113-57bc7f899ca7>, line 4)",
     "output_type": "error",
     "traceback": [
      "\u001b[0;36m  File \u001b[0;32m\"<ipython-input-113-57bc7f899ca7>\"\u001b[0;36m, line \u001b[0;32m4\u001b[0m\n\u001b[0;31m    features[i] = features[i].apply(lambda x: np.log1p(x))\u001b[0m\n\u001b[0m    ^\u001b[0m\n\u001b[0;31mIndentationError\u001b[0m\u001b[0;31m:\u001b[0m unexpected indent\n"
     ]
    }
   ],
   "source": [
    "# skew_features_transform = skew_features[abs(skew_features) > 0.75].index\n",
    "\n",
    "# for i in skew_features:\n",
    "    features[i] = features[i].apply(lambda x: np.log1p(x))"
   ]
  },
  {
   "cell_type": "code",
   "execution_count": null,
   "metadata": {
    "collapsed": true
   },
   "outputs": [],
   "source": [
    "# train.columns.is_numeric"
   ]
  },
  {
   "cell_type": "code",
   "execution_count": null,
   "metadata": {
    "collapsed": true
   },
   "outputs": [],
   "source": [
    "# ss = train[numeric_cols].apply(lambda x: skew(x)).sort_values(ascending = False)"
   ]
  },
  {
   "cell_type": "code",
   "execution_count": null,
   "metadata": {
    "collapsed": true
   },
   "outputs": [],
   "source": [
    "# pd.DataFrame({skew: ss})"
   ]
  },
  {
   "cell_type": "code",
   "execution_count": null,
   "metadata": {
    "collapsed": true
   },
   "outputs": [],
   "source": [
    "# skew_features_transform = skew_features[abs(skew_features) > 0.75].index\n",
    "\n",
    "# for i in skew_features:\n",
    "    # features[i] = features[i].apply(lambda x: np.log1p(x))"
   ]
  },
  {
   "cell_type": "code",
   "execution_count": null,
   "metadata": {
    "collapsed": true
   },
   "outputs": [],
   "source": [
    "'''s_transform = ss[abs(ss) > 0.75].index'''"
   ]
  },
  {
   "cell_type": "code",
   "execution_count": null,
   "metadata": {
    "collapsed": true
   },
   "outputs": [],
   "source": [
    "'''for i in s_transform:\n",
    "    train[i] = train[i].apply(lambda x: np.log1p(x))'''"
   ]
  },
  {
   "cell_type": "code",
   "execution_count": 116,
   "metadata": {},
   "outputs": [
    {
     "name": "stdout",
     "output_type": "stream",
     "text": [
      "LotFrontage 0.26754714932471685\n",
      "LotArea 12.195142125084478\n",
      "OverallQual 0.2167209765258641\n",
      "OverallCond 0.6923552135520978\n",
      "YearBuilt -0.612830724202899\n",
      "YearRemodAdd -0.5030444967597948\n",
      "MasVnrArea 2.6748646898037354\n",
      "BsmtFinSF1 1.6837708962341815\n",
      "BsmtFinSF2 4.250888017057445\n",
      "BsmtUnfSF 0.9193227015582005\n",
      "TotalBsmtSF 1.522688086978629\n",
      "1stFlrSF 1.3753417421837937\n",
      "2ndFlrSF 0.8121942731961613\n",
      "LowQualFinSF 9.002080417658552\n",
      "GrLivArea 1.365155954773434\n",
      "BsmtFullBath 0.5954540376067279\n",
      "BsmtHalfBath 4.0991856695420035\n",
      "FullBath 0.0365239844325461\n",
      "HalfBath 0.6752028347742616\n",
      "BedroomAbvGr 0.21157244158228097\n",
      "KitchenAbvGr 4.483784093860484\n",
      "TotRmsAbvGrd 0.6756457673102017\n",
      "Fireplaces 0.6488976310170327\n",
      "GarageYrBlt -0.693615411226019\n",
      "GarageCars -0.34219689543081294\n",
      "GarageArea 0.1797959420587727\n",
      "WoodDeckSF 1.5397916998042025\n",
      "OpenPorchSF 2.361911928568972\n",
      "EnclosedPorch 3.086696471376678\n",
      "3SsnPorch 10.293752357165413\n",
      "ScreenPorch 4.1179773827954875\n",
      "PoolArea 14.813134660429398\n",
      "MiscVal 24.4516396173223\n",
      "YrSold 0.096169579618143\n",
      "SalePrice 0.12122191311528359\n"
     ]
    }
   ],
   "source": [
    "# measure skewness with scipy skew\n",
    "from scipy.stats import skew\n",
    "from scipy.stats import boxcox\n",
    "\n",
    "# before skewness\n",
    "for i in numeric_cols:\n",
    "    print(i, skew(train[i]))"
   ]
  },
  {
   "cell_type": "code",
   "execution_count": null,
   "metadata": {
    "collapsed": true
   },
   "outputs": [],
   "source": [
    "\n",
    "'''for i in numeric_cols:\n",
    "    if abs(skew(train[i])) > 0.75:\n",
    "        train[i] = train[i].apply(lambda x: np.log(x+1))'''"
   ]
  },
  {
   "cell_type": "code",
   "execution_count": null,
   "metadata": {
    "collapsed": true
   },
   "outputs": [],
   "source": [
    "# same for test data\n",
    "'''for i in numeric_cols:\n",
    "    if i == 'SalePrice':\n",
    "        pass\n",
    "    else: \n",
    "        if abs(skew(test[i])) > 0.75:\n",
    "            test[i] = test[i].apply(lambda x: np.log(x+1))'''"
   ]
  },
  {
   "cell_type": "code",
   "execution_count": 119,
   "metadata": {
    "collapsed": true
   },
   "outputs": [],
   "source": [
    "sample = train.LotArea"
   ]
  },
  {
   "cell_type": "code",
   "execution_count": 120,
   "metadata": {},
   "outputs": [
    {
     "data": {
      "text/plain": [
       "(array([ 10.43368   ,  10.60280927,  10.81397325, ...,  10.52335162,\n",
       "         10.61890088,  10.64865655]), 0.030946318971935564)"
      ]
     },
     "execution_count": 120,
     "metadata": {},
     "output_type": "execute_result"
    }
   ],
   "source": [
    "boxcox(sample)"
   ]
  },
  {
   "cell_type": "code",
   "execution_count": 123,
   "metadata": {},
   "outputs": [
    {
     "ename": "ValueError",
     "evalue": "Data must be positive.",
     "output_type": "error",
     "traceback": [
      "\u001b[0;31m---------------------------------------------------------------------------\u001b[0m",
      "\u001b[0;31mValueError\u001b[0m                                Traceback (most recent call last)",
      "\u001b[0;32m<ipython-input-123-7dcd382791ab>\u001b[0m in \u001b[0;36m<module>\u001b[0;34m()\u001b[0m\n\u001b[1;32m      2\u001b[0m \u001b[0;32mfor\u001b[0m \u001b[0mi\u001b[0m \u001b[0;32min\u001b[0m \u001b[0mnumeric_cols\u001b[0m\u001b[0;34m:\u001b[0m\u001b[0;34m\u001b[0m\u001b[0m\n\u001b[1;32m      3\u001b[0m     \u001b[0;32mif\u001b[0m \u001b[0mabs\u001b[0m\u001b[0;34m(\u001b[0m\u001b[0mskew\u001b[0m\u001b[0;34m(\u001b[0m\u001b[0mtrain\u001b[0m\u001b[0;34m[\u001b[0m\u001b[0mi\u001b[0m\u001b[0;34m]\u001b[0m\u001b[0;34m)\u001b[0m\u001b[0;34m)\u001b[0m \u001b[0;34m>\u001b[0m \u001b[0;36m0.75\u001b[0m\u001b[0;34m:\u001b[0m\u001b[0;34m\u001b[0m\u001b[0m\n\u001b[0;32m----> 4\u001b[0;31m         \u001b[0mtrain\u001b[0m\u001b[0;34m[\u001b[0m\u001b[0mi\u001b[0m\u001b[0;34m]\u001b[0m \u001b[0;34m=\u001b[0m \u001b[0mboxcox\u001b[0m\u001b[0;34m(\u001b[0m\u001b[0mtrain\u001b[0m\u001b[0;34m[\u001b[0m\u001b[0mi\u001b[0m\u001b[0;34m]\u001b[0m\u001b[0;34m)\u001b[0m\u001b[0;34m[\u001b[0m\u001b[0;36m0\u001b[0m\u001b[0;34m]\u001b[0m\u001b[0;34m\u001b[0m\u001b[0m\n\u001b[0m",
      "\u001b[0;32m~/anaconda/lib/python3.6/site-packages/scipy/stats/morestats.py\u001b[0m in \u001b[0;36mboxcox\u001b[0;34m(x, lmbda, alpha)\u001b[0m\n\u001b[1;32m   1029\u001b[0m \u001b[0;34m\u001b[0m\u001b[0m\n\u001b[1;32m   1030\u001b[0m     \u001b[0;32mif\u001b[0m \u001b[0many\u001b[0m\u001b[0;34m(\u001b[0m\u001b[0mx\u001b[0m \u001b[0;34m<=\u001b[0m \u001b[0;36m0\u001b[0m\u001b[0;34m)\u001b[0m\u001b[0;34m:\u001b[0m\u001b[0;34m\u001b[0m\u001b[0m\n\u001b[0;32m-> 1031\u001b[0;31m         \u001b[0;32mraise\u001b[0m \u001b[0mValueError\u001b[0m\u001b[0;34m(\u001b[0m\u001b[0;34m\"Data must be positive.\"\u001b[0m\u001b[0;34m)\u001b[0m\u001b[0;34m\u001b[0m\u001b[0m\n\u001b[0m\u001b[1;32m   1032\u001b[0m \u001b[0;34m\u001b[0m\u001b[0m\n\u001b[1;32m   1033\u001b[0m     \u001b[0;32mif\u001b[0m \u001b[0mlmbda\u001b[0m \u001b[0;32mis\u001b[0m \u001b[0;32mnot\u001b[0m \u001b[0;32mNone\u001b[0m\u001b[0;34m:\u001b[0m  \u001b[0;31m# single transformation\u001b[0m\u001b[0;34m\u001b[0m\u001b[0m\n",
      "\u001b[0;31mValueError\u001b[0m: Data must be positive."
     ]
    }
   ],
   "source": [
    "# try box cox transformation instead\n",
    "for i in numeric_cols:\n",
    "    if abs(skew(train[i])) > 0.75:\n",
    "        train[i] = boxcox(train[i])[0]"
   ]
  },
  {
   "cell_type": "code",
   "execution_count": 86,
   "metadata": {},
   "outputs": [
    {
     "name": "stdout",
     "output_type": "stream",
     "text": [
      "LotFrontage 0.26754714932471685\n",
      "LotArea -0.13726327193353463\n",
      "OverallQual 0.2167209765258641\n",
      "OverallCond 0.6923552135520978\n",
      "YearBuilt -0.612830724202899\n",
      "YearRemodAdd -0.5030444967597948\n",
      "MasVnrArea 0.5030142428849528\n",
      "BsmtFinSF1 -0.6177742838938641\n",
      "BsmtFinSF2 2.521100187789297\n",
      "BsmtUnfSF -2.18425653050519\n",
      "TotalBsmtSF -5.149372577588974\n",
      "1stFlrSF 0.08003175718429047\n",
      "2ndFlrSF 0.28934579420210166\n",
      "LowQualFinSF 7.452649617407249\n",
      "GrLivArea -0.006133943205449232\n",
      "BsmtFullBath 0.5954540376067279\n",
      "BsmtHalfBath 3.929021552020634\n",
      "FullBath 0.0365239844325461\n",
      "HalfBath 0.6752028347742616\n",
      "BedroomAbvGr 0.21157244158228097\n",
      "KitchenAbvGr 3.865437143533283\n",
      "TotRmsAbvGrd 0.6756457673102017\n",
      "Fireplaces 0.6488976310170327\n",
      "GarageYrBlt -0.693615411226019\n",
      "GarageCars -0.34219689543081294\n",
      "GarageArea 0.1797959420587727\n",
      "WoodDeckSF 0.15337880209736926\n",
      "OpenPorchSF -0.023373249677216844\n",
      "EnclosedPorch 2.110104183261533\n",
      "3SsnPorch 7.727025709215359\n",
      "ScreenPorch 3.1471712168455683\n",
      "PoolArea 14.348341634226733\n",
      "MiscVal 5.165389977878334\n",
      "YrSold 0.096169579618143\n",
      "SalePrice 0.12122191311528359\n"
     ]
    }
   ],
   "source": [
    "# after skew transformation\n",
    "for i in numeric_cols:\n",
    "    print(i, skew(train[i]))"
   ]
  },
  {
   "cell_type": "code",
   "execution_count": 89,
   "metadata": {},
   "outputs": [
    {
     "data": {
      "text/plain": [
       "['BsmtFinSF2',\n",
       " 'BsmtUnfSF',\n",
       " 'TotalBsmtSF',\n",
       " 'LowQualFinSF',\n",
       " 'BsmtHalfBath',\n",
       " 'KitchenAbvGr',\n",
       " 'EnclosedPorch',\n",
       " '3SsnPorch',\n",
       " 'ScreenPorch',\n",
       " 'PoolArea',\n",
       " 'MiscVal']"
      ]
     },
     "execution_count": 89,
     "metadata": {},
     "output_type": "execute_result"
    }
   ],
   "source": [
    "still_skewed =[]\n",
    "for i in numeric_cols:\n",
    "    if abs(skew(train[i])) > 0.75:\n",
    "        still_skewed.append(i)\n",
    "still_skewed"
   ]
  },
  {
   "cell_type": "code",
   "execution_count": 92,
   "metadata": {},
   "outputs": [
    {
     "data": {
      "text/plain": [
       "count    1460.000000\n",
       "mean        0.655398\n",
       "std         1.845045\n",
       "min         0.000000\n",
       "25%         0.000000\n",
       "50%         0.000000\n",
       "75%         0.000000\n",
       "max         7.296413\n",
       "Name: BsmtFinSF2, dtype: float64"
      ]
     },
     "execution_count": 92,
     "metadata": {},
     "output_type": "execute_result"
    },
    {
     "data": {
      "image/png": "[encoded data removed]",
      "text/plain": [
       "<matplotlib.figure.Figure at 0x11bc3ee10>"
      ]
     },
     "metadata": {},
     "output_type": "display_data"
    }
   ],
   "source": [
    "plt.hist(train.BsmtFinSF2)\n",
    "train.BsmtFinSF2.describe()"
   ]
  },
  {
   "cell_type": "markdown",
   "metadata": {},
   "source": [
    "# Train, Validaition Splitting"
   ]
  },
  {
   "cell_type": "markdown",
   "metadata": {},
   "source": [
    "We are going to split the annotated dataset in training and validation for the later evaluation of our regression models\n",
    "\n"
   ]
  },
  {
   "cell_type": "code",
   "execution_count": 46,
   "metadata": {
    "collapsed": true
   },
   "outputs": [],
   "source": [
    "# Split data into training and validation dataset\n",
    "\n",
    "# using numpy\n",
    "msk = np.random.rand(len(train)) < 0.8\n",
    "training = train[msk]\n",
    "validation = train[~msk]"
   ]
  },
  {
   "cell_type": "code",
   "execution_count": 47,
   "metadata": {},
   "outputs": [
    {
     "name": "stdout",
     "output_type": "stream",
     "text": [
      "training: 1184\n",
      "validation: 276\n",
      "test: 1459\n"
     ]
    }
   ],
   "source": [
    "print(\"training: {}\\nvalidation: {}\\ntest: {}\".format(len(training), len(validation), len(test)))"
   ]
  },
  {
   "cell_type": "code",
   "execution_count": 48,
   "metadata": {},
   "outputs": [
    {
     "name": "stdout",
     "output_type": "stream",
     "text": [
      "training: 80\n",
      "training: 80\n",
      "training: 79\n"
     ]
    }
   ],
   "source": [
    "print(\"training: {}\".format(len(training.columns)))\n",
    "print(\"training: {}\".format(len(validation.columns)))\n",
    "print(\"training: {}\".format(len(test.columns)))"
   ]
  },
  {
   "cell_type": "markdown",
   "metadata": {},
   "source": [
    "If we inspect in detail the categorical variables of the dataset, we’ll see that some are incomplete: they only have a unique value for all the dataset. These features are not valuable. Remember the three aspects that a feature should have: informative, **discriminative** and independent. Incomplete cases are not discriminative at all. In addition, this might create problems when fitting the regression model."
   ]
  },
  {
   "cell_type": "code",
   "execution_count": 51,
   "metadata": {},
   "outputs": [
    {
     "name": "stdout",
     "output_type": "stream",
     "text": [
      "Utilities\n"
     ]
    }
   ],
   "source": [
    "# training set incomplete cases\n",
    "# find cases where there are only 1 unique value\n",
    "\n",
    "for i in non_numeric_cols:\n",
    "    unique_num = len(np.unique(training[i]))\n",
    "    if unique_num < 2:\n",
    "        print(i)"
   ]
  },
  {
   "cell_type": "code",
   "execution_count": 52,
   "metadata": {
    "collapsed": true
   },
   "outputs": [],
   "source": [
    "# validation set incomplete cases\n",
    "for i in non_numeric_cols:\n",
    "    unique_num = len(np.unique(validation[i]))\n",
    "    if unique_num < 2:\n",
    "        print(i)"
   ]
  },
  {
   "cell_type": "code",
   "execution_count": 53,
   "metadata": {
    "collapsed": true
   },
   "outputs": [],
   "source": [
    "# test set incomplete cases\n",
    "for i in non_numeric_cols:\n",
    "    unique_num = len(np.unique(test[i]))\n",
    "    if unique_num < 2:\n",
    "        print(i)"
   ]
  },
  {
   "cell_type": "code",
   "execution_count": 54,
   "metadata": {
    "collapsed": true
   },
   "outputs": [],
   "source": [
    "# remove utilities with only 1 unique value = adds no value to\n",
    "# analysis\n",
    "\n",
    "training = training.drop('Utilities', axis = 1)\n",
    "validation = validation.drop('Utilities', axis = 1)\n",
    "test = test.drop(\"Utilities\", axis = 1)"
   ]
  },
  {
   "cell_type": "code",
   "execution_count": 55,
   "metadata": {
    "collapsed": true
   },
   "outputs": [],
   "source": [
    "# remove utiltities from column names\n",
    "non_numeric_cols.remove('Utilities')"
   ]
  },
  {
   "cell_type": "markdown",
   "metadata": {},
   "source": [
    "# Feature Engineering"
   ]
  },
  {
   "cell_type": "markdown",
   "metadata": {},
   "source": [
    "## Filtering methods"
   ]
  },
  {
   "cell_type": "markdown",
   "metadata": {},
   "source": [
    "We will rank the features according to their predictive power according to the methodologies seen in class: the Chi Squared Independence test and the Information Gain."
   ]
  },
  {
   "cell_type": "markdown",
   "metadata": {},
   "source": [
    "### Full Model\n",
    "\n",
    "lm model with all the features to have a baseline to evaluate the impact of the feature engineering."
   ]
  },
  {
   "cell_type": "code",
   "execution_count": 95,
   "metadata": {
    "collapsed": true
   },
   "outputs": [],
   "source": [
    "# for python, categorical variables need to be changed to numeric variables\n",
    "# use pandas get dummies function to change them to binary variables"
   ]
  },
  {
   "cell_type": "code",
   "execution_count": 56,
   "metadata": {
    "collapsed": true
   },
   "outputs": [],
   "source": [
    "# create dummy and concat with original dataframe (Without columns)\n",
    "\n",
    "train_dummy = pd.get_dummies(training[non_numeric_cols])\n",
    "training.drop(non_numeric_cols, axis = 1)\n",
    "\n",
    "training = pd.concat([training,train_dummy], axis = 1)"
   ]
  },
  {
   "cell_type": "code",
   "execution_count": 57,
   "metadata": {},
   "outputs": [
    {
     "name": "stdout",
     "output_type": "stream",
     "text": [
      "<class 'pandas.core.frame.DataFrame'>\n",
      "Int64Index: 1184 entries, 0 to 1459\n",
      "Columns: 335 entries, MSSubClass to SaleCondition_Partial\n",
      "dtypes: float64(24), int64(11), object(44), uint8(256)\n",
      "memory usage: 1.0+ MB\n"
     ]
    }
   ],
   "source": [
    "training.info()"
   ]
  },
  {
   "cell_type": "code",
   "execution_count": 58,
   "metadata": {
    "collapsed": true
   },
   "outputs": [],
   "source": [
    "# repeat dummification process with validation and testing data\n",
    "\n",
    "# validation data\n",
    "validation_dummy = pd.get_dummies(validation[non_numeric_cols])\n",
    "validation.drop(non_numeric_cols, axis = 1)\n",
    "\n",
    "validation = pd.concat([validation, validation_dummy], axis = 1)\n",
    "\n",
    "# test data\n",
    "test_dummy = pd.get_dummies(test[non_numeric_cols])\n",
    "test.drop(non_numeric_cols, axis = 1)\n",
    "\n",
    "test = pd.concat([test, test_dummy], axis = 1)"
   ]
  },
  {
   "cell_type": "code",
   "execution_count": 59,
   "metadata": {},
   "outputs": [
    {
     "name": "stdout",
     "output_type": "stream",
     "text": [
      "<class 'pandas.core.frame.DataFrame'>\n",
      "Int64Index: 276 entries, 4 to 1457\n",
      "Columns: 317 entries, MSSubClass to SaleCondition_Partial\n",
      "dtypes: float64(24), int64(11), object(44), uint8(238)\n",
      "memory usage: 236.6+ KB\n",
      "None\n",
      "<class 'pandas.core.frame.DataFrame'>\n",
      "RangeIndex: 1459 entries, 0 to 1458\n",
      "Columns: 331 entries, MSSubClass to SaleCondition_Partial\n",
      "dtypes: float64(11), int64(23), object(44), uint8(253)\n",
      "memory usage: 1.2+ MB\n",
      "None\n"
     ]
    }
   ],
   "source": [
    "# verify changes\n",
    "print(validation.info())\n",
    "print(test.info())"
   ]
  },
  {
   "cell_type": "code",
   "execution_count": null,
   "metadata": {
    "collapsed": true
   },
   "outputs": [],
   "source": []
  },
  {
   "cell_type": "code",
   "execution_count": 37,
   "metadata": {
    "collapsed": true
   },
   "outputs": [],
   "source": [
    "# set seed\n",
    "np.random.seed(121)"
   ]
  },
  {
   "cell_type": "code",
   "execution_count": 42,
   "metadata": {
    "collapsed": true
   },
   "outputs": [],
   "source": [
    "# identify predictor variables and target variable\n",
    "features = list(training.columns)\n",
    "features.remove('SalePrice')\n",
    "target = 'SalePrice'"
   ]
  },
  {
   "cell_type": "code",
   "execution_count": 43,
   "metadata": {
    "collapsed": true
   },
   "outputs": [],
   "source": [
    "# import linear regression model\n",
    "from sklearn.linear_model import LinearRegression"
   ]
  },
  {
   "cell_type": "code",
   "execution_count": 40,
   "metadata": {
    "collapsed": true
   },
   "outputs": [],
   "source": [
    "lm = LinearRegression()\n",
    "lm.fit(training[numeric_cols], training.SalePrice)\n",
    "pred = lm.predict(validation[numeric_cols])"
   ]
  },
  {
   "cell_type": "code",
   "execution_count": 41,
   "metadata": {},
   "outputs": [
    {
     "data": {
      "text/plain": [
       "<matplotlib.axes._subplots.AxesSubplot at 0x12025a7b8>"
      ]
     },
     "execution_count": 41,
     "metadata": {},
     "output_type": "execute_result"
    },
    {
     "data": {
      "image/png": "[encoded data removed]",
      "text/plain": [
       "<matplotlib.figure.Figure at 0x120169cf8>"
      ]
     },
     "metadata": {},
     "output_type": "display_data"
    }
   ],
   "source": [
    "sns.regplot(pred, validation.SalePrice)"
   ]
  },
  {
   "cell_type": "code",
   "execution_count": null,
   "metadata": {
    "collapsed": true
   },
   "outputs": [],
   "source": []
  }
 ],
 "metadata": {
  "kernelspec": {
   "display_name": "Python 3",
   "language": "python",
   "name": "python3"
  },
  "language_info": {
   "codemirror_mode": {
    "name": "ipython",
    "version": 3
   },
   "file_extension": ".py",
   "mimetype": "text/x-python",
   "name": "python",
   "nbconvert_exporter": "python",
   "pygments_lexer": "ipython3",
   "version": "3.6.1"
  }
 },
 "nbformat": 4,
 "nbformat_minor": 2
}
